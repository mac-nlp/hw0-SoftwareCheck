{
 "cells": [
  {
   "cell_type": "markdown",
   "id": "605afa95-25df-43b9-8615-56c870a2994e",
   "metadata": {},
   "source": [
    "# NLP Software Check\n",
    "\n",
    "This Jupyter Notebook checks that you're ready to use all of the necessary software for this course.\n",
    "\n",
    "The first check is that you can open this notebook and run each cell. If so, Jupyter notebooks work on your computer! \n",
    "\n",
    "Notebooks essentially let you mix code and markdown (a type of formatted text). We'll be using these for a number of in-class activities. "
   ]
  },
  {
   "cell_type": "markdown",
   "id": "52cd5831-a1b6-49f3-a40f-7235c6985ec7",
   "metadata": {},
   "source": [
    "This next chunks will verify that you can import and use numpy, a library that gives us a bunch of tools for efficient numerical computation, as well as real arrays (As opposed to lists) in Python!\n",
    "\n",
    "This chunk prints the version number"
   ]
  },
  {
   "cell_type": "code",
   "execution_count": 3,
   "id": "67eab585-c12c-4417-99e2-1ed9cf588617",
   "metadata": {},
   "outputs": [
    {
     "name": "stdout",
     "output_type": "stream",
     "text": [
      "1.26.2\n"
     ]
    }
   ],
   "source": [
    "import numpy as np\n",
    "\n",
    "print(np.__version__)"
   ]
  },
  {
   "cell_type": "markdown",
   "id": "2b5560f2-97b3-4f5a-96d1-f551437feffc",
   "metadata": {},
   "source": [
    "This one introduces some numpy tools that will become useful to us --- a function to get the base-2 logarithm of a number (np.log2) and another to do addition on two numbers in logspace (np.logaddexp). Note that this is a little imprecise!"
   ]
  },
  {
   "cell_type": "code",
   "execution_count": 10,
   "id": "c6c1298d-4ec0-4df7-8e78-3f043e8df5c4",
   "metadata": {},
   "outputs": [
    {
     "data": {
      "text/plain": [
       "9.999999999999998"
      ]
     },
     "execution_count": 10,
     "metadata": {},
     "output_type": "execute_result"
    }
   ],
   "source": [
    "# Moving between logspace and regular numbers!\n",
    "np.exp2(np.logaddexp2(np.log2(3.0), np.log2(7.0)))"
   ]
  },
  {
   "cell_type": "markdown",
   "id": "38e772cb-2490-4d53-96a8-9d5ac23f5f47",
   "metadata": {},
   "source": [
    "Despite that, this is useful to us because we'll be working with numbers *very* close to 0, and storing them in logspace so they don't get lost to imprecision in floating point representations (think COMP240!). Sometimes we want to add them together. Here's an example!"
   ]
  },
  {
   "cell_type": "code",
   "execution_count": 38,
   "id": "8db23475-d694-404d-830e-41d66dc4b94f",
   "metadata": {},
   "outputs": [
    {
     "name": "stdout",
     "output_type": "stream",
     "text": [
      "a = -1075, exp2(a) = 0.0\n",
      "b = -1075, exp2(b) = 0.0\n",
      "np.log2(np.exp2(a) + np.exp2(b)) = -inf\n",
      "np.logaddexp2(a, b) = -1074.0\n"
     ]
    },
    {
     "name": "stderr",
     "output_type": "stream",
     "text": [
      "/var/folders/18/lflm4x2d4jz9_pptv0gy8w840000gq/T/ipykernel_41954/735804027.py:6: RuntimeWarning: divide by zero encountered in log2\n",
      "  print(\"np.log2(np.exp2(a) + np.exp2(b)) = {}\".format(np.log2(np.exp2(a) + np.exp2(b)))) # A problem!\n"
     ]
    }
   ],
   "source": [
    "a = -1075\n",
    "b = -1075\n",
    "\n",
    "print(\"a = {}, exp2(a) = {}\".format(a, np.exp2(a)))\n",
    "print(\"b = {}, exp2(b) = {}\".format(b, np.exp2(b)))\n",
    "print(\"np.log2(np.exp2(a) + np.exp2(b)) = {}\".format(np.log2(np.exp2(a) + np.exp2(b)))) # A problem!\n",
    "print(\"np.logaddexp2(a, b) = {}\".format(np.logaddexp2(a, b))) #As expected!"
   ]
  },
  {
   "cell_type": "markdown",
   "id": "1d645e03-ec46-4eb9-842c-f4eaa60d1598",
   "metadata": {},
   "source": [
    "The next chunk tests to see whether pytorch is installed. This is the industry and research standard machine learning library.\n",
    "\n",
    "This sample code constructs a 2D *tensor* (i.e., a 3x3 matrix) and then transposes it along dimensions 0 and 1 (i.e., the only two dimensions in a matrix). "
   ]
  },
  {
   "cell_type": "code",
   "execution_count": 9,
   "id": "86c7455c-2d1c-4a26-aabb-f5d7fab460b7",
   "metadata": {},
   "outputs": [
    {
     "data": {
      "text/plain": [
       "tensor([[1, 4, 7],\n",
       "        [2, 5, 8],\n",
       "        [3, 6, 9]])"
      ]
     },
     "execution_count": 9,
     "metadata": {},
     "output_type": "execute_result"
    }
   ],
   "source": [
    "import torch\n",
    "\n",
    "torch.tensor([[1,2,3],[4,5,6], [7,8,9]]).transpose(0,1)"
   ]
  },
  {
   "cell_type": "markdown",
   "id": "f3daa502-0cb7-4322-a147-8e7e485d7980",
   "metadata": {},
   "source": [
    "The next chunk tests if scipy & matplotlib are installed, which will give us some assorted tools, including probability and stats resources from scipy and plotting functionality from matplotlib.\n",
    "\n",
    "This snippet will generate 1000 random samples from a normal distribution and plot them."
   ]
  },
  {
   "cell_type": "code",
   "execution_count": 46,
   "id": "2960b4d3-0f5a-4e98-aaf8-58c8714f71e8",
   "metadata": {},
   "outputs": [
    {
     "data": {
      "image/png": "[encoded data removed]",
      "text/plain": [
       "<Figure size 640x480 with 1 Axes>"
      ]
     },
     "metadata": {},
     "output_type": "display_data"
    }
   ],
   "source": [
    "from scipy import stats\n",
    "import matplotlib.pyplot as plt\n",
    "\n",
    "samples = stats.norm.rvs(size=10000) #sample from a norm(0,1) random variable 10000 times\n",
    "\n",
    "fig, ax = plt.subplots(1, 1)\n",
    "ax.hist(samples, density=True, bins='auto', histtype='stepfilled', alpha=0.2)\n",
    "plt.show()"
   ]
  },
  {
   "cell_type": "markdown",
   "id": "8082e6a9-bc02-4607-abb0-fb1eed07df6b",
   "metadata": {},
   "source": [
    "These chunks test for nltk, the Natural Language ToolKit. Amongst the many resources it has are samples of a number of corpora (here, the Penn Treebank) and tools for representing annotated (here, parsed) text!\n",
    "\n",
    "Because there are so many resources in NLTK (that are sometimes large!), occasionally something will require that you download the resource separately using the nltk downloader. The first chunk downloads a sample of the Penn Treebank, and the second prints a single parse tree."
   ]
  },
  {
   "cell_type": "code",
   "execution_count": 55,
   "id": "898eb116-e2e5-46f4-887d-910509966e5e",
   "metadata": {},
   "outputs": [
    {
     "name": "stderr",
     "output_type": "stream",
     "text": [
      "[nltk_data] Downloading package treebank to\n",
      "[nltk_data]     /Users/sarehall/nltk_data...\n",
      "[nltk_data]   Unzipping corpora/treebank.zip.\n"
     ]
    },
    {
     "data": {
      "text/plain": [
       "True"
      ]
     },
     "execution_count": 55,
     "metadata": {},
     "output_type": "execute_result"
    }
   ],
   "source": [
    "import nltk\n",
    "nltk.download(\"treebank\")"
   ]
  },
  {
   "cell_type": "code",
   "execution_count": 58,
   "id": "a4a9130f-8a76-4e16-b005-e66a344da28e",
   "metadata": {},
   "outputs": [
    {
     "name": "stdout",
     "output_type": "stream",
     "text": [
      "(S\n",
      "  (S-TPC-1\n",
      "    (NP-SBJ\n",
      "      (NP (NP (DT A) (NN form)) (PP (IN of) (NP (NN asbestos))))\n",
      "      (RRC\n",
      "        (ADVP-TMP (RB once))\n",
      "        (VP\n",
      "          (VBN used)\n",
      "          (NP (-NONE- *))\n",
      "          (S-CLR\n",
      "            (NP-SBJ (-NONE- *))\n",
      "            (VP\n",
      "              (TO to)\n",
      "              (VP\n",
      "                (VB make)\n",
      "                (NP (NNP Kent) (NN cigarette) (NNS filters))))))))\n",
      "    (VP\n",
      "      (VBZ has)\n",
      "      (VP\n",
      "        (VBN caused)\n",
      "        (NP\n",
      "          (NP (DT a) (JJ high) (NN percentage))\n",
      "          (PP (IN of) (NP (NN cancer) (NNS deaths)))\n",
      "          (PP-LOC\n",
      "            (IN among)\n",
      "            (NP\n",
      "              (NP (DT a) (NN group))\n",
      "              (PP\n",
      "                (IN of)\n",
      "                (NP\n",
      "                  (NP (NNS workers))\n",
      "                  (RRC\n",
      "                    (VP\n",
      "                      (VBN exposed)\n",
      "                      (NP (-NONE- *))\n",
      "                      (PP-CLR (TO to) (NP (PRP it)))\n",
      "                      (ADVP-TMP\n",
      "                        (NP\n",
      "                          (QP (RBR more) (IN than) (CD 30))\n",
      "                          (NNS years))\n",
      "                        (IN ago))))))))))))\n",
      "  (, ,)\n",
      "  (NP-SBJ (NNS researchers))\n",
      "  (VP (VBD reported) (SBAR (-NONE- 0) (S (-NONE- *T*-1))))\n",
      "  (. .))\n"
     ]
    }
   ],
   "source": [
    "from nltk.corpus import treebank\n",
    "\n",
    "print(treebank.parsed_sents('wsj_0003.mrg')[0])"
   ]
  },
  {
   "cell_type": "markdown",
   "id": "d26e4f8a-ee87-46f5-9e50-63332f190830",
   "metadata": {},
   "source": [
    "if you have svgling installed (`pip3 install svgling`), the following chunk should print out a render of the syntax tree!"
   ]
  },
  {
   "cell_type": "code",
   "execution_count": null,
   "id": "e67dc805-c2e0-4c16-856c-063eeb54ce06",
   "metadata": {},
   "outputs": [],
   "source": []
  },
  {
   "cell_type": "markdown",
   "id": "2a837e57-8796-4384-bd43-7933594e8205",
   "metadata": {},
   "source": [
    "And finally this chunk will demonstrate using type annotations in Python, which are entirely optional, but will show up in starter code and may be useful to be aware of!\n",
    "\n",
    "You are also within your rights to ignore static type checking in Python --- just another tool to see and consider! At the very least, **this code should run!**"
   ]
  },
  {
   "cell_type": "code",
   "execution_count": 53,
   "id": "9c4ba49b-cc60-4909-a04d-873d29bda601",
   "metadata": {},
   "outputs": [
    {
     "name": "stdout",
     "output_type": "stream",
     "text": [
      "[3, 2, 1]\n"
     ]
    }
   ],
   "source": [
    "from typing import Sequence, Protocol\n",
    "\n",
    "# A function from Sequence (anything index-able) to another Sequence\n",
    "def reverse(l : Sequence) -> Sequence:\n",
    "    if len(l) == 0:\n",
    "        return []\n",
    "    return [l[-1]] + reverse(l[:-1])\n",
    "\n",
    "# Annotate the variable x as a list of integers\n",
    "x : list[int] = [1, 2, 3]\n",
    "print(reverse(x))\n",
    "\n",
    "# Define a Protocol, which essentially functions like an interface\n",
    "class IsThisAnInterface(Protocol):\n",
    "    requiredInstanceVar : int\n",
    "    def requiredMethod(self) -> None: ...\n",
    "\n",
    "# Implementing that protocol/interface\n",
    "class Implementer:\n",
    "    requiredInstanceVar : int = 3\n",
    "    def __init__(self):\n",
    "        pass\n",
    "    def requiredMethod(self):\n",
    "        return None\n",
    "\n",
    "# This should typecheck!\n",
    "y : IsThisAnInterface = Implementer()"
   ]
  }
 ],
 "metadata": {
  "kernelspec": {
   "display_name": "Python 3 (ipykernel)",
   "language": "python",
   "name": "python3"
  },
  "language_info": {
   "codemirror_mode": {
    "name": "ipython",
    "version": 3
   },
   "file_extension": ".py",
   "mimetype": "text/x-python",
   "name": "python",
   "nbconvert_exporter": "python",
   "pygments_lexer": "ipython3",
   "version": "3.10.12"
  }
 },
 "nbformat": 4,
 "nbformat_minor": 5
}
